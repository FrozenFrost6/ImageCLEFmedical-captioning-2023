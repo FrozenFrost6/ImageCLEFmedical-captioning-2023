{
  "cells": [
    {
      "cell_type": "code",
      "source": [
        "from google.colab import drive\n",
        "drive.mount(\"/content/drive\")"
      ],
      "metadata": {
        "colab": {
          "base_uri": "https://localhost:8080/"
        },
        "id": "Ac4U-m0rEwM4",
        "outputId": "0fc72218-d873-4a76-aebb-9ade687cc299"
      },
      "id": "Ac4U-m0rEwM4",
      "execution_count": null,
      "outputs": [
        {
          "output_type": "stream",
          "name": "stdout",
          "text": [
            "Mounted at /content/drive\n"
          ]
        }
      ]
    },
    {
      "cell_type": "code",
      "execution_count": null,
      "id": "f8eef3f8",
      "metadata": {
        "id": "f8eef3f8"
      },
      "outputs": [],
      "source": [
        "import pandas as pd\n",
        "import numpy as np\n",
        "import xgboost as xgb\n",
        "from sklearn.preprocessing import MultiLabelBinarizer\n",
        "from sklearn.model_selection import train_test_split\n",
        "import os\n"
      ]
    },
    {
      "cell_type": "code",
      "execution_count": null,
      "id": "19a07903",
      "metadata": {
        "colab": {
          "base_uri": "https://localhost:8080/",
          "height": 71
        },
        "id": "19a07903",
        "outputId": "1276d416-0bea-48c2-9d0f-f48de2d7ee6a"
      },
      "outputs": [
        {
          "output_type": "stream",
          "name": "stdout",
          "text": [
            "Num GPUs Available:  0\n",
            "2.12.0\n"
          ]
        },
        {
          "output_type": "execute_result",
          "data": {
            "text/plain": [
              "'3.10.11 (main, Apr  5 2023, 14:15:10) [GCC 9.4.0]'"
            ],
            "application/vnd.google.colaboratory.intrinsic+json": {
              "type": "string"
            }
          },
          "metadata": {},
          "execution_count": 3
        }
      ],
      "source": [
        "import tensorflow as tf\n",
        "print(\"Num GPUs Available: \", len(tf.config.experimental.list_physical_devices('GPU')))\n",
        "tf.test.is_built_with_cuda()\n",
        "print(tf.version.VERSION)\n",
        "import sys\n",
        "sys.version"
      ]
    },
    {
      "cell_type": "code",
      "execution_count": null,
      "id": "930b0fd7",
      "metadata": {
        "colab": {
          "base_uri": "https://localhost:8080/"
        },
        "id": "930b0fd7",
        "outputId": "53e82bf0-5ac0-42e0-9fac-ea607e152de3"
      },
      "outputs": [
        {
          "output_type": "stream",
          "name": "stdout",
          "text": [
            "[name: \"/device:CPU:0\"\n",
            "device_type: \"CPU\"\n",
            "memory_limit: 268435456\n",
            "locality {\n",
            "}\n",
            "incarnation: 1294241103377942360\n",
            "xla_global_id: -1\n",
            "]\n"
          ]
        },
        {
          "output_type": "execute_result",
          "data": {
            "text/plain": [
              "[]"
            ]
          },
          "metadata": {},
          "execution_count": 4
        }
      ],
      "source": [
        "from tensorflow.python.client import device_lib\n",
        "print(device_lib.list_local_devices())\n",
        "\n",
        "import tensorflow as tf\n",
        "tf.config.list_physical_devices('GPU')\n",
        "# tf.debugging.set_log_device_placement(False)"
      ]
    },
    {
      "cell_type": "code",
      "execution_count": null,
      "id": "3d38c31a",
      "metadata": {
        "colab": {
          "base_uri": "https://localhost:8080/"
        },
        "id": "3d38c31a",
        "outputId": "50129c69-94e9-45e7-82ec-ea1d77e9e38c"
      },
      "outputs": [
        {
          "output_type": "stream",
          "name": "stdout",
          "text": [
            "/content\n"
          ]
        }
      ],
      "source": [
        "base_path = os.getcwd()\n",
        "print(base_path)"
      ]
    },
    {
      "cell_type": "code",
      "source": [
        "#os.chdir('/content/drive/MyDrive/ImageCLEFmedical-23/weights/testPicturesFeatureVectors/test_densenet121_featureVectors1.csv')"
      ],
      "metadata": {
        "id": "haYEavIvFhBh"
      },
      "id": "haYEavIvFhBh",
      "execution_count": null,
      "outputs": []
    },
    {
      "cell_type": "code",
      "source": [
        "#!unzip /content/drive/MyDrive/ImageCLEFmedical-23/Notebooks/AnveshScripts/trainingResultsMLRG/EnsembleFeatures.zip"
      ],
      "metadata": {
        "colab": {
          "base_uri": "https://localhost:8080/"
        },
        "id": "-YIrCuaWFEDr",
        "outputId": "2795cde7-1b6a-4cd1-8e07-5090d35bc7d9"
      },
      "id": "-YIrCuaWFEDr",
      "execution_count": null,
      "outputs": [
        {
          "output_type": "stream",
          "name": "stdout",
          "text": [
            "Archive:  /content/drive/MyDrive/ImageCLEFmedical-23/Notebooks/AnveshScripts/trainingResultsMLRG/EnsembleFeatures.zip\n",
            "  inflating: densenet201_featureVectors.csv  \n",
            "  inflating: densenet121_featureVectors.csv  \n",
            "  inflating: densenet169_featureVectors.csv  \n"
          ]
        }
      ]
    },
    {
      "cell_type": "code",
      "execution_count": null,
      "id": "e1fd7290",
      "metadata": {
        "id": "e1fd7290",
        "colab": {
          "base_uri": "https://localhost:8080/"
        },
        "outputId": "823f19e2-df39-4ff8-a379-b222c99fa58d"
      },
      "outputs": [
        {
          "output_type": "stream",
          "name": "stdout",
          "text": [
            "                                                0          1         2     \\\n",
            "0      ImageCLEFmedical_Caption_2023_test_000001.jpg   1.940603  0.140533   \n",
            "1      ImageCLEFmedical_Caption_2023_test_000002.jpg   0.000000  0.816281   \n",
            "2      ImageCLEFmedical_Caption_2023_test_000003.jpg   1.946133  0.707151   \n",
            "3      ImageCLEFmedical_Caption_2023_test_000004.jpg   0.000000  0.000000   \n",
            "4      ImageCLEFmedical_Caption_2023_test_000005.jpg   1.522031  0.000000   \n",
            "...                                              ...        ...       ...   \n",
            "10468  ImageCLEFmedical_Caption_2023_test_010469.jpg   1.326969  0.725773   \n",
            "10469  ImageCLEFmedical_Caption_2023_test_010470.jpg   0.799166  0.626519   \n",
            "10470  ImageCLEFmedical_Caption_2023_test_010471.jpg   1.475854  1.081474   \n",
            "10471  ImageCLEFmedical_Caption_2023_test_010472.jpg  29.919790  2.437143   \n",
            "10472  ImageCLEFmedical_Caption_2023_test_010473.jpg  24.402668  0.000000   \n",
            "\n",
            "           3          4         5          6         7         8     9     \\\n",
            "0      2.030567   0.583208  3.688380   2.925048  0.000000  0.000000   0.0   \n",
            "1      1.676117   0.383369  1.125529   1.058520  0.000000  0.128517   0.0   \n",
            "2      0.000000   1.500347  1.705682   0.000000  0.000000  1.000727   0.0   \n",
            "3      0.000000   2.440679  1.151296   0.415618  0.000000  0.800163   0.0   \n",
            "4      0.460008   0.201318  2.031944   2.367830  0.000000  0.315109   0.0   \n",
            "...         ...        ...       ...        ...       ...       ...   ...   \n",
            "10468  3.184845   1.078150  1.655442   1.681396  0.000000  0.000000   0.0   \n",
            "10469  1.640839   1.178987  2.185383   1.221650  0.319814  0.000000   0.0   \n",
            "10470  0.000000   0.325492  3.070553   2.160223  0.290868  1.419418   0.0   \n",
            "10471  0.000000  16.989481  6.047424  12.552664  0.000000  0.000000   0.0   \n",
            "10472  0.000000  15.225058  0.157359  11.396350  0.000000  0.000000   0.0   \n",
            "\n",
            "       ...      4087      4088      4089       4090  4091     4092      4093  \\\n",
            "0      ...  0.886965  0.000000  3.260668   1.288609   0.0  0.00000  0.000000   \n",
            "1      ...  0.000000  0.000000  1.020797   0.000000   0.0  0.53875  0.370579   \n",
            "2      ...  0.000000  0.000000  0.342053   3.202936   0.0  0.00000  0.000000   \n",
            "3      ...  0.064459  1.032504  0.860743   2.146537   0.0  0.00000  0.842475   \n",
            "4      ...  0.576048  0.000000  0.140867   0.902183   0.0  0.00000  0.148332   \n",
            "...    ...       ...       ...       ...        ...   ...      ...       ...   \n",
            "10468  ...  0.598497  0.000000  1.755064   0.873822   0.0  0.00000  1.395468   \n",
            "10469  ...  0.264771  0.000000  0.527240   0.000000   0.0  0.00000  1.934327   \n",
            "10470  ...  0.393832  0.000000  1.535294   0.000000   0.0  0.00000  0.000000   \n",
            "10471  ...  0.000000  0.000000  0.000000  17.018545   0.0  0.00000  0.000000   \n",
            "10472  ...  0.000000  0.000000  5.555040  14.375597   0.0  0.00000  0.000000   \n",
            "\n",
            "           4094       4095      4096  \n",
            "0      0.118973   0.000000  0.026457  \n",
            "1      0.000000   0.000000  0.094543  \n",
            "2      0.000000   0.469799  1.515488  \n",
            "3      0.000000   1.092398  0.237462  \n",
            "4      0.000000   0.000000  0.000000  \n",
            "...         ...        ...       ...  \n",
            "10468  0.000000   0.000000  0.590649  \n",
            "10469  0.250494   0.000000  1.993877  \n",
            "10470  0.000000   1.664250  0.168227  \n",
            "10471  0.000000  17.353724  0.000000  \n",
            "10472  0.000000  14.197600  0.000000  \n",
            "\n",
            "[10473 rows x 4097 columns]\n"
          ]
        }
      ],
      "source": [
        "# # Load image features data\n",
        "\n",
        "features1 = pd.read_csv('/content/drive/MyDrive/ImageCLEFmedical-23/weights/testPicturesFeatureVectors/test_densenet121_featureVectors1.csv', header=None)\n",
        "print(features1)\n"
      ]
    },
    {
      "cell_type": "code",
      "execution_count": null,
      "id": "754630a3",
      "metadata": {
        "id": "754630a3",
        "colab": {
          "base_uri": "https://localhost:8080/"
        },
        "outputId": "b8b66f51-019e-4beb-c5bf-ecfa0e81de0b"
      },
      "outputs": [
        {
          "output_type": "stream",
          "name": "stdout",
          "text": [
            "                                                0         1         2     \\\n",
            "0      ImageCLEFmedical_Caption_2023_test_000001.jpg  0.000000  0.434086   \n",
            "1      ImageCLEFmedical_Caption_2023_test_000002.jpg  0.197238  0.013203   \n",
            "2      ImageCLEFmedical_Caption_2023_test_000003.jpg  0.124740  0.000000   \n",
            "3      ImageCLEFmedical_Caption_2023_test_000004.jpg  0.043010  0.000000   \n",
            "4      ImageCLEFmedical_Caption_2023_test_000005.jpg  0.030245  0.000000   \n",
            "...                                              ...       ...       ...   \n",
            "10468  ImageCLEFmedical_Caption_2023_test_010469.jpg  0.000000  0.000000   \n",
            "10469  ImageCLEFmedical_Caption_2023_test_010470.jpg  0.000000  0.000000   \n",
            "10470  ImageCLEFmedical_Caption_2023_test_010471.jpg  0.009294  0.000000   \n",
            "10471  ImageCLEFmedical_Caption_2023_test_010472.jpg  0.000000  6.897283   \n",
            "10472  ImageCLEFmedical_Caption_2023_test_010473.jpg  0.000000  7.547468   \n",
            "\n",
            "           3         4     5         6     7         8     9     ...  \\\n",
            "0      0.000000  0.000000   0.0  0.000000   0.0  0.504873   0.0  ...   \n",
            "1      0.182334  0.000000   0.0  0.000000   0.0  0.000000   0.0  ...   \n",
            "2      0.122096  0.000000   0.0  0.000000   0.0  0.017325   0.0  ...   \n",
            "3      0.226603  0.000000   0.0  0.023397   0.0  0.000000   0.0  ...   \n",
            "4      0.200590  0.000000   0.0  0.008615   0.0  0.000000   0.0  ...   \n",
            "...         ...       ...   ...       ...   ...       ...   ...  ...   \n",
            "10468  0.163798  0.000000   0.0  0.000000   0.0  0.000000   0.0  ...   \n",
            "10469  0.292190  0.000000   0.0  0.000000   0.0  0.000000   0.0  ...   \n",
            "10470  0.285142  0.003206   0.0  0.000000   0.0  0.179118   0.0  ...   \n",
            "10471  0.053172  0.000000   0.0  0.000000   0.0  2.876117   0.0  ...   \n",
            "10472  0.118002  0.000000   0.0  0.000000   0.0  3.062677   0.0  ...   \n",
            "\n",
            "           4087      4088      4089      4090      4091      4092      4093  \\\n",
            "0      0.642135  0.000000  0.447947  0.000000  1.156995  0.364373  0.000000   \n",
            "1      0.000000  0.000000  0.000000  0.177177  0.090239  0.000000  0.000000   \n",
            "2      0.000000  0.062280  0.000000  0.710909  0.000000  0.000000  0.173711   \n",
            "3      0.000000  0.168956  0.000000  0.642035  0.000000  0.000000  0.033032   \n",
            "4      0.196570  0.122906  0.000000  0.465988  0.000000  0.000000  0.000000   \n",
            "...         ...       ...       ...       ...       ...       ...       ...   \n",
            "10468  0.000000  0.000000  0.464252  0.000000  0.000000  0.000000  0.000000   \n",
            "10469  0.000000  0.000000  0.047935  0.000000  0.000000  0.000000  0.000000   \n",
            "10470  0.000000  0.000000  0.000000  0.436805  0.018485  0.000000  0.000000   \n",
            "10471  3.306902  0.000000  0.000000  3.646533  7.815125  7.552313  0.922021   \n",
            "10472  3.125252  0.000000  0.000000  3.893099  8.074143  7.665239  1.021051   \n",
            "\n",
            "       4094      4095  4096  \n",
            "0       0.0  0.000000   0.0  \n",
            "1       0.0  0.000000   0.0  \n",
            "2       0.0  0.000000   0.0  \n",
            "3       0.0  0.000000   0.0  \n",
            "4       0.0  0.000000   0.0  \n",
            "...     ...       ...   ...  \n",
            "10468   0.0  0.000000   0.0  \n",
            "10469   0.0  0.000000   0.0  \n",
            "10470   0.0  0.000000   0.0  \n",
            "10471   0.0  5.156563   0.0  \n",
            "10472   0.0  5.531346   0.0  \n",
            "\n",
            "[10473 rows x 4097 columns]\n"
          ]
        }
      ],
      "source": [
        "features2 = pd.read_csv('/content/drive/MyDrive/ImageCLEFmedical-23/weights/testPicturesFeatureVectors/test_densenet169_featureVectors1.csv', header=None)\n",
        "print(features2)"
      ]
    },
    {
      "cell_type": "code",
      "execution_count": null,
      "id": "fdd7b0d5",
      "metadata": {
        "id": "fdd7b0d5",
        "colab": {
          "base_uri": "https://localhost:8080/"
        },
        "outputId": "3ff00e7a-9427-487f-bee8-da7ddea41f88"
      },
      "outputs": [
        {
          "output_type": "stream",
          "name": "stdout",
          "text": [
            "                                              0          1         2     3     \\\n",
            "0    ImageCLEFmedical_Caption_2023_test_009751.jpg   4.621109  1.486218   0.0   \n",
            "1    ImageCLEFmedical_Caption_2023_test_009752.jpg   1.387149  1.422787   0.0   \n",
            "2    ImageCLEFmedical_Caption_2023_test_009753.jpg   2.790237  0.055973   0.0   \n",
            "3    ImageCLEFmedical_Caption_2023_test_009754.jpg   4.043234  3.046385   0.0   \n",
            "4    ImageCLEFmedical_Caption_2023_test_009755.jpg   4.642855  2.098854   0.0   \n",
            "..                                             ...        ...       ...   ...   \n",
            "718  ImageCLEFmedical_Caption_2023_test_010469.jpg   1.248951  2.598323   0.0   \n",
            "719  ImageCLEFmedical_Caption_2023_test_010470.jpg   1.578369  1.491930   0.0   \n",
            "720  ImageCLEFmedical_Caption_2023_test_010471.jpg   2.806366  1.568005   0.0   \n",
            "721  ImageCLEFmedical_Caption_2023_test_010472.jpg  12.291249  0.000000   0.0   \n",
            "722  ImageCLEFmedical_Caption_2023_test_010473.jpg   9.800273  0.462123   0.0   \n",
            "\n",
            "         4          5         6         7         8         9     ...  \\\n",
            "0    0.537226   3.041707  1.546926  0.207724  1.018027  0.631836  ...   \n",
            "1    0.771949   0.897426  0.477542  0.379903  0.045715  0.000000  ...   \n",
            "2    0.898004   3.442904  0.989037  0.251628  2.978183  0.000000  ...   \n",
            "3    1.843765   4.376376  1.033291  3.329483  0.000000  0.000000  ...   \n",
            "4    0.000000   3.112764  2.648833  1.388968  0.000000  0.000000  ...   \n",
            "..        ...        ...       ...       ...       ...       ...  ...   \n",
            "718  0.000000   3.237916  0.007441  0.977976  0.000000  1.468844  ...   \n",
            "719  0.942513   1.559906  0.634246  0.849931  0.896927  0.002569  ...   \n",
            "720  0.000000   4.204732  0.883278  0.646675  0.785805  0.000000  ...   \n",
            "721  1.150084   9.684028  0.000000  0.000000  0.968025  0.000000  ...   \n",
            "722  0.197098  14.108013  0.000000  0.167393  0.727200  0.000000  ...   \n",
            "\n",
            "        4087      4088      4089     4090      4091      4092      4093  \\\n",
            "0    0.00000  0.000000  2.122107  0.00000  0.869445  0.000000  0.529752   \n",
            "1    0.63793  1.726771  0.000000  0.43051  1.285641  0.000000  0.250394   \n",
            "2    0.00000  1.056599  1.241779  0.00000  2.066514  0.000000  0.000000   \n",
            "3    0.00000  2.537855  0.302451  0.00000  1.080746  0.000000  0.000000   \n",
            "4    0.00000  3.381672  2.149414  0.00000  0.102138  0.000000  0.000000   \n",
            "..       ...       ...       ...      ...       ...       ...       ...   \n",
            "718  0.00000  0.722697  1.985724  0.00000  0.000000  0.000000  0.000000   \n",
            "719  0.00000  1.231280  2.728405  0.00000  0.700500  0.242195  0.000000   \n",
            "720  0.00000  3.181260  1.820384  0.00000  2.095280  0.000000  0.000000   \n",
            "721  0.00000  8.861471  4.316307  0.00000  0.000000  0.000000  0.000000   \n",
            "722  0.00000  9.157406  7.569376  0.00000  0.000000  1.411543  0.000000   \n",
            "\n",
            "         4094      4095      4096  \n",
            "0    0.000000  0.000000  1.309946  \n",
            "1    0.000000  1.037155  0.496114  \n",
            "2    0.000000  1.589003  1.487866  \n",
            "3    0.000000  0.000000  2.404241  \n",
            "4    0.000000  1.424844  3.875290  \n",
            "..        ...       ...       ...  \n",
            "718  0.210439  0.000000  0.000000  \n",
            "719  0.884672  0.000000  0.000000  \n",
            "720  0.000000  1.146162  1.203337  \n",
            "721  0.000000  2.691141  7.357674  \n",
            "722  0.000000  1.640658  5.533450  \n",
            "\n",
            "[723 rows x 4097 columns]\n"
          ]
        }
      ],
      "source": [
        "features3 = pd.read_csv('/content/drive/MyDrive/ImageCLEFmedical-23/weights/testPicturesFeatureVectors/test_densenet201_featureVectors.csv', header=None)\n",
        "print(features3)"
      ]
    },
    {
      "cell_type": "code",
      "execution_count": null,
      "id": "2f0c451f",
      "metadata": {
        "id": "2f0c451f"
      },
      "outputs": [],
      "source": [
        "# Merge features data\n",
        "#features = pd.merge(pd.merge(features1,features2, left_on=0, right_on=0),features3,on=0)\n",
        "features = pd.merge(pd.merge(features1,features2, left_on=0, right_on=0),features2,on=0)\n",
        "#features = pd.read_csv(base_path+'/Data/EnsembleWeights/MergedFeatures.csv', header=None)"
      ]
    },
    {
      "cell_type": "code",
      "execution_count": null,
      "id": "ff95d5b9",
      "metadata": {
        "id": "ff95d5b9",
        "outputId": "5bc545a0-9311-42ad-84b3-92cc4de2e3c1",
        "colab": {
          "base_uri": "https://localhost:8080/"
        }
      },
      "outputs": [
        {
          "output_type": "stream",
          "name": "stdout",
          "text": [
            "                                                   0        1_x       2_x  \\\n",
            "0      ImageCLEFmedical_Caption_2023_test_000001.jpg   1.940603  0.140533   \n",
            "1      ImageCLEFmedical_Caption_2023_test_000002.jpg   0.000000  0.816281   \n",
            "2      ImageCLEFmedical_Caption_2023_test_000003.jpg   1.946133  0.707151   \n",
            "3      ImageCLEFmedical_Caption_2023_test_000004.jpg   0.000000  0.000000   \n",
            "4      ImageCLEFmedical_Caption_2023_test_000005.jpg   1.522031  0.000000   \n",
            "...                                              ...        ...       ...   \n",
            "10468  ImageCLEFmedical_Caption_2023_test_010469.jpg   1.326969  0.725773   \n",
            "10469  ImageCLEFmedical_Caption_2023_test_010470.jpg   0.799166  0.626519   \n",
            "10470  ImageCLEFmedical_Caption_2023_test_010471.jpg   1.475854  1.081474   \n",
            "10471  ImageCLEFmedical_Caption_2023_test_010472.jpg  29.919790  2.437143   \n",
            "10472  ImageCLEFmedical_Caption_2023_test_010473.jpg  24.402668  0.000000   \n",
            "\n",
            "            3_x        4_x       5_x        6_x       7_x       8_x  9_x  ...  \\\n",
            "0      2.030567   0.583208  3.688380   2.925048  0.000000  0.000000  0.0  ...   \n",
            "1      1.676117   0.383369  1.125529   1.058520  0.000000  0.128517  0.0  ...   \n",
            "2      0.000000   1.500347  1.705682   0.000000  0.000000  1.000727  0.0  ...   \n",
            "3      0.000000   2.440679  1.151296   0.415618  0.000000  0.800163  0.0  ...   \n",
            "4      0.460008   0.201318  2.031944   2.367830  0.000000  0.315109  0.0  ...   \n",
            "...         ...        ...       ...        ...       ...       ...  ...  ...   \n",
            "10468  3.184845   1.078150  1.655442   1.681396  0.000000  0.000000  0.0  ...   \n",
            "10469  1.640839   1.178987  2.185383   1.221650  0.319814  0.000000  0.0  ...   \n",
            "10470  0.000000   0.325492  3.070553   2.160223  0.290868  1.419418  0.0  ...   \n",
            "10471  0.000000  16.989481  6.047424  12.552664  0.000000  0.000000  0.0  ...   \n",
            "10472  0.000000  15.225058  0.157359  11.396350  0.000000  0.000000  0.0  ...   \n",
            "\n",
            "           4087      4088      4089      4090      4091      4092      4093  \\\n",
            "0      0.642135  0.000000  0.447947  0.000000  1.156995  0.364373  0.000000   \n",
            "1      0.000000  0.000000  0.000000  0.177177  0.090239  0.000000  0.000000   \n",
            "2      0.000000  0.062280  0.000000  0.710909  0.000000  0.000000  0.173711   \n",
            "3      0.000000  0.168956  0.000000  0.642035  0.000000  0.000000  0.033032   \n",
            "4      0.196570  0.122906  0.000000  0.465988  0.000000  0.000000  0.000000   \n",
            "...         ...       ...       ...       ...       ...       ...       ...   \n",
            "10468  0.000000  0.000000  0.464252  0.000000  0.000000  0.000000  0.000000   \n",
            "10469  0.000000  0.000000  0.047935  0.000000  0.000000  0.000000  0.000000   \n",
            "10470  0.000000  0.000000  0.000000  0.436805  0.018485  0.000000  0.000000   \n",
            "10471  3.306902  0.000000  0.000000  3.646533  7.815125  7.552313  0.922021   \n",
            "10472  3.125252  0.000000  0.000000  3.893099  8.074143  7.665239  1.021051   \n",
            "\n",
            "       4094      4095  4096  \n",
            "0       0.0  0.000000   0.0  \n",
            "1       0.0  0.000000   0.0  \n",
            "2       0.0  0.000000   0.0  \n",
            "3       0.0  0.000000   0.0  \n",
            "4       0.0  0.000000   0.0  \n",
            "...     ...       ...   ...  \n",
            "10468   0.0  0.000000   0.0  \n",
            "10469   0.0  0.000000   0.0  \n",
            "10470   0.0  0.000000   0.0  \n",
            "10471   0.0  5.156563   0.0  \n",
            "10472   0.0  5.531346   0.0  \n",
            "\n",
            "[10473 rows x 12289 columns]\n"
          ]
        }
      ],
      "source": [
        "print(features)"
      ]
    },
    {
      "cell_type": "code",
      "execution_count": null,
      "id": "02c389fc",
      "metadata": {
        "id": "02c389fc"
      },
      "outputs": [],
      "source": [
        "#print(list(features.loc[0])[8194])"
      ]
    },
    {
      "cell_type": "code",
      "execution_count": null,
      "id": "6eca9314",
      "metadata": {
        "id": "6eca9314"
      },
      "outputs": [],
      "source": [
        "#features.to_csv(\"MergedFeatures.csv\")"
      ]
    },
    {
      "cell_type": "code",
      "execution_count": null,
      "id": "f8c1b4c1",
      "metadata": {
        "id": "f8c1b4c1",
        "outputId": "7f71e419-b239-456b-90fc-201bbc7e71d3",
        "colab": {
          "base_uri": "https://localhost:8080/"
        }
      },
      "outputs": [
        {
          "output_type": "stream",
          "name": "stdout",
          "text": [
            "                                               ID  \\\n",
            "0      ImageCLEFmedical_Caption_2023_train_000001   \n",
            "1      ImageCLEFmedical_Caption_2023_train_000002   \n",
            "2      ImageCLEFmedical_Caption_2023_train_000003   \n",
            "3      ImageCLEFmedical_Caption_2023_train_000004   \n",
            "4      ImageCLEFmedical_Caption_2023_train_000005   \n",
            "...                                           ...   \n",
            "60913  ImageCLEFmedical_Caption_2023_train_060914   \n",
            "60914  ImageCLEFmedical_Caption_2023_train_060915   \n",
            "60915  ImageCLEFmedical_Caption_2023_train_060916   \n",
            "60916  ImageCLEFmedical_Caption_2023_train_060917   \n",
            "60917  ImageCLEFmedical_Caption_2023_train_060918   \n",
            "\n",
            "                                                    cuis  \n",
            "0                                               C0040405  \n",
            "1                                               C0041618  \n",
            "2                             C0040405;C0817096;C0205271  \n",
            "3                    C0002978;C0036033;C0262950;C0225317  \n",
            "4                             C0040405;C0817096;C0497156  \n",
            "...                                                  ...  \n",
            "60913                                  C0040405;C0005682  \n",
            "60914  C1306645;C0000726;C1999039;C0203102;C0022646;C...  \n",
            "60915                         C0002978;C1510412;C0226333  \n",
            "60916                                  C0002978;C1510412  \n",
            "60917                C0002978;C0002940;C0003483;C0226262  \n",
            "\n",
            "[60918 rows x 2 columns]\n"
          ]
        }
      ],
      "source": [
        "# Load image labels data\n",
        "trainLabels = pd.read_csv('/content/drive/MyDrive/ImageCLEFmedical-23/Captioning-Dataset_CLEF-2023/ImageCLEFmedical_Caption_2023_concept_detection_train_labels.csv', sep=\"\\t\")\n",
        "print(trainLabels)"
      ]
    },
    {
      "cell_type": "code",
      "execution_count": null,
      "id": "70b5fed1",
      "metadata": {
        "scrolled": false,
        "id": "70b5fed1"
      },
      "outputs": [],
      "source": [
        "all_cui_train=trainLabels.loc[:,\"cuis\"]"
      ]
    },
    {
      "cell_type": "code",
      "execution_count": null,
      "id": "032dfecf",
      "metadata": {
        "id": "032dfecf",
        "outputId": "bce43c89-d138-45f2-bbea-18d0223becf8",
        "colab": {
          "base_uri": "https://localhost:8080/"
        }
      },
      "outputs": [
        {
          "output_type": "stream",
          "name": "stdout",
          "text": [
            "227156\n",
            "2125\n"
          ]
        }
      ],
      "source": [
        "sep_cui_train=[]\n",
        "for cui_row in all_cui_train:\n",
        "  #print(type(cui_row))\n",
        "  sep_cui_train.extend(cui_row.split(sep=\";\"))\n",
        "  \n",
        "  \n",
        "print(len(sep_cui_train))\n",
        "unique_cui_train=np.array(sep_cui_train)\n",
        "print(len(np.unique(unique_cui_train)))"
      ]
    },
    {
      "cell_type": "code",
      "execution_count": null,
      "id": "bbc7fb14",
      "metadata": {
        "id": "bbc7fb14"
      },
      "outputs": [],
      "source": [
        "df_valid = pd.read_csv('/content/drive/MyDrive/ImageCLEFmedical-23/Captioning-Dataset_CLEF-2023/ImageCLEFmedical_Caption_2023_concept_detection_valid_labels.csv', sep=\"\\t\")"
      ]
    },
    {
      "cell_type": "code",
      "execution_count": null,
      "id": "dd9ff3ce",
      "metadata": {
        "id": "dd9ff3ce"
      },
      "outputs": [],
      "source": [
        "all_cui_valid=df_valid.loc[:,\"cuis\"]"
      ]
    },
    {
      "cell_type": "code",
      "execution_count": null,
      "id": "4d9a88b7",
      "metadata": {
        "id": "4d9a88b7",
        "outputId": "2a545b16-917b-4e24-ccdc-9fd129857373",
        "colab": {
          "base_uri": "https://localhost:8080/"
        }
      },
      "outputs": [
        {
          "output_type": "stream",
          "name": "stdout",
          "text": [
            "40042\n",
            "1945\n"
          ]
        }
      ],
      "source": [
        "sep_cui_valid=[]\n",
        "for cui_row in all_cui_valid:\n",
        "  #print(type(cui_row))\n",
        "  sep_cui_valid.extend(cui_row.split(sep=\";\"))\n",
        "  \n",
        "  \n",
        "print(len(sep_cui_valid))\n",
        "unique_cui_valid=np.array(sep_cui_valid)\n",
        "print(len(np.unique(unique_cui_valid)))"
      ]
    },
    {
      "cell_type": "code",
      "execution_count": null,
      "id": "381ca59b",
      "metadata": {
        "id": "381ca59b"
      },
      "outputs": [],
      "source": [
        "train_and_valid_cuis=[]\n",
        "train_and_valid_cuis.extend(unique_cui_train)\n",
        "train_and_valid_cuis.extend(unique_cui_valid)"
      ]
    },
    {
      "cell_type": "code",
      "execution_count": null,
      "id": "ceb84ad7",
      "metadata": {
        "scrolled": true,
        "id": "ceb84ad7",
        "outputId": "a1119111-3fb7-4d73-9edc-05eb8ae43d2c",
        "colab": {
          "base_uri": "https://localhost:8080/"
        }
      },
      "outputs": [
        {
          "output_type": "stream",
          "name": "stdout",
          "text": [
            "len(np.unique(total_cui)) 2125\n",
            "['C0040405' 'C0041618' 'C0040405' ... 'C0202823' 'C0225730' 'C0032227']\n"
          ]
        }
      ],
      "source": [
        "total_cui=np.array(train_and_valid_cuis)\n",
        "print(\"len(np.unique(total_cui))\",len(np.unique(total_cui)))\n",
        "print(total_cui)"
      ]
    },
    {
      "cell_type": "code",
      "execution_count": null,
      "id": "59ed92d6",
      "metadata": {
        "id": "59ed92d6",
        "outputId": "197455f0-f66f-4487-b8b8-b4e875b4d3c2",
        "colab": {
          "base_uri": "https://localhost:8080/"
        }
      },
      "outputs": [
        {
          "output_type": "stream",
          "name": "stdout",
          "text": [
            "2125\n"
          ]
        }
      ],
      "source": [
        "from sklearn.preprocessing import LabelEncoder\n",
        "\n",
        "encoder=LabelEncoder()\n",
        "encoder.fit(total_cui)\n",
        "print(len(encoder.classes_))"
      ]
    },
    {
      "cell_type": "code",
      "execution_count": null,
      "id": "9c7fac2e",
      "metadata": {
        "scrolled": true,
        "id": "9c7fac2e"
      },
      "outputs": [],
      "source": [
        "mlb = MultiLabelBinarizer()\n",
        "enc_labels=[i for i in range(2125)]\n",
        "#print(enc_labels)\n",
        "mlb.fit([enc_labels])\n",
        "\n",
        "enc_labels = pd.DataFrame([enc_labels])\n",
        "#print(enc_labels)\n",
        "#print(\"Transformed:\", mlb.transform([(661,2124,1), (11, 22)]))"
      ]
    },
    {
      "cell_type": "code",
      "execution_count": null,
      "id": "9bb81fb3",
      "metadata": {
        "id": "9bb81fb3",
        "outputId": "6be08cd5-bcd6-4477-a4d9-80d66e6897ec",
        "colab": {
          "base_uri": "https://localhost:8080/"
        }
      },
      "outputs": [
        {
          "output_type": "stream",
          "name": "stdout",
          "text": [
            "[]\n"
          ]
        }
      ],
      "source": [
        "encoded_cui_labels = []\n",
        "print(encoded_cui_labels)\n",
        "for index, row in trainLabels.iterrows():\n",
        "    cuisForRow = row[\"cuis\"].split(\";\")\n",
        "    encodedRow = encoder.transform(cuisForRow)\n",
        "    #print(encodedRow)\n",
        "    encoded_cui_labels.append(mlb.transform([encodedRow])[0].tolist())\n",
        "    #print((mlb.transform([encodedRow])[0]))"
      ]
    },
    {
      "cell_type": "code",
      "execution_count": null,
      "id": "c6a4c818",
      "metadata": {
        "id": "c6a4c818"
      },
      "outputs": [],
      "source": []
    },
    {
      "cell_type": "code",
      "execution_count": null,
      "id": "68eeba4b",
      "metadata": {
        "id": "68eeba4b"
      },
      "outputs": [],
      "source": []
    },
    {
      "cell_type": "code",
      "execution_count": null,
      "id": "aef8ba37",
      "metadata": {
        "id": "aef8ba37"
      },
      "outputs": [],
      "source": []
    },
    {
      "cell_type": "code",
      "execution_count": null,
      "id": "b7b888c7",
      "metadata": {
        "id": "b7b888c7"
      },
      "outputs": [],
      "source": []
    },
    {
      "cell_type": "code",
      "execution_count": null,
      "id": "30a091b8",
      "metadata": {
        "id": "30a091b8"
      },
      "outputs": [],
      "source": []
    },
    {
      "cell_type": "code",
      "execution_count": null,
      "id": "a71dbfcb",
      "metadata": {
        "id": "a71dbfcb"
      },
      "outputs": [],
      "source": []
    },
    {
      "cell_type": "code",
      "execution_count": null,
      "id": "1a969972",
      "metadata": {
        "id": "1a969972"
      },
      "outputs": [],
      "source": []
    },
    {
      "cell_type": "code",
      "source": [
        "final_features = features.iloc[:, 1:]\n",
        "print(final_features)"
      ],
      "metadata": {
        "colab": {
          "base_uri": "https://localhost:8080/"
        },
        "id": "JZNDOMedm5NM",
        "outputId": "0c4fcb3c-f159-4c9a-a61a-93eb94140621"
      },
      "id": "JZNDOMedm5NM",
      "execution_count": null,
      "outputs": [
        {
          "output_type": "stream",
          "name": "stdout",
          "text": [
            "             1_x       2_x       3_x        4_x       5_x        6_x  \\\n",
            "0       1.940603  0.140533  2.030567   0.583208  3.688380   2.925048   \n",
            "1       0.000000  0.816281  1.676117   0.383369  1.125529   1.058520   \n",
            "2       1.946133  0.707151  0.000000   1.500347  1.705682   0.000000   \n",
            "3       0.000000  0.000000  0.000000   2.440679  1.151296   0.415618   \n",
            "4       1.522031  0.000000  0.460008   0.201318  2.031944   2.367830   \n",
            "...          ...       ...       ...        ...       ...        ...   \n",
            "10468   1.326969  0.725773  3.184845   1.078150  1.655442   1.681396   \n",
            "10469   0.799166  0.626519  1.640839   1.178987  2.185383   1.221650   \n",
            "10470   1.475854  1.081474  0.000000   0.325492  3.070553   2.160223   \n",
            "10471  29.919790  2.437143  0.000000  16.989481  6.047424  12.552664   \n",
            "10472  24.402668  0.000000  0.000000  15.225058  0.157359  11.396350   \n",
            "\n",
            "            7_x       8_x  9_x      10_x  ...      4087      4088      4089  \\\n",
            "0      0.000000  0.000000  0.0  0.896591  ...  0.642135  0.000000  0.447947   \n",
            "1      0.000000  0.128517  0.0  0.000000  ...  0.000000  0.000000  0.000000   \n",
            "2      0.000000  1.000727  0.0  0.126512  ...  0.000000  0.062280  0.000000   \n",
            "3      0.000000  0.800163  0.0  0.941296  ...  0.000000  0.168956  0.000000   \n",
            "4      0.000000  0.315109  0.0  0.000000  ...  0.196570  0.122906  0.000000   \n",
            "...         ...       ...  ...       ...  ...       ...       ...       ...   \n",
            "10468  0.000000  0.000000  0.0  0.036828  ...  0.000000  0.000000  0.464252   \n",
            "10469  0.319814  0.000000  0.0  0.664377  ...  0.000000  0.000000  0.047935   \n",
            "10470  0.290868  1.419418  0.0  0.000000  ...  0.000000  0.000000  0.000000   \n",
            "10471  0.000000  0.000000  0.0  8.588647  ...  3.306902  0.000000  0.000000   \n",
            "10472  0.000000  0.000000  0.0  8.737701  ...  3.125252  0.000000  0.000000   \n",
            "\n",
            "           4090      4091      4092      4093  4094      4095  4096  \n",
            "0      0.000000  1.156995  0.364373  0.000000   0.0  0.000000   0.0  \n",
            "1      0.177177  0.090239  0.000000  0.000000   0.0  0.000000   0.0  \n",
            "2      0.710909  0.000000  0.000000  0.173711   0.0  0.000000   0.0  \n",
            "3      0.642035  0.000000  0.000000  0.033032   0.0  0.000000   0.0  \n",
            "4      0.465988  0.000000  0.000000  0.000000   0.0  0.000000   0.0  \n",
            "...         ...       ...       ...       ...   ...       ...   ...  \n",
            "10468  0.000000  0.000000  0.000000  0.000000   0.0  0.000000   0.0  \n",
            "10469  0.000000  0.000000  0.000000  0.000000   0.0  0.000000   0.0  \n",
            "10470  0.436805  0.018485  0.000000  0.000000   0.0  0.000000   0.0  \n",
            "10471  3.646533  7.815125  7.552313  0.922021   0.0  5.156563   0.0  \n",
            "10472  3.893099  8.074143  7.665239  1.021051   0.0  5.531346   0.0  \n",
            "\n",
            "[10473 rows x 12288 columns]\n"
          ]
        }
      ]
    },
    {
      "cell_type": "code",
      "execution_count": null,
      "id": "1d45e3ff",
      "metadata": {
        "id": "1d45e3ff",
        "outputId": "da6c96fb-6768-4568-9174-7a88498785cb",
        "colab": {
          "base_uri": "https://localhost:8080/"
        }
      },
      "outputs": [
        {
          "output_type": "stream",
          "name": "stdout",
          "text": [
            "                                                   0        1_x       2_x  \\\n",
            "0      ImageCLEFmedical_Caption_2023_test_000001.jpg   1.940603  0.140533   \n",
            "1      ImageCLEFmedical_Caption_2023_test_000002.jpg   0.000000  0.816281   \n",
            "2      ImageCLEFmedical_Caption_2023_test_000003.jpg   1.946133  0.707151   \n",
            "3      ImageCLEFmedical_Caption_2023_test_000004.jpg   0.000000  0.000000   \n",
            "4      ImageCLEFmedical_Caption_2023_test_000005.jpg   1.522031  0.000000   \n",
            "...                                              ...        ...       ...   \n",
            "10468  ImageCLEFmedical_Caption_2023_test_010469.jpg   1.326969  0.725773   \n",
            "10469  ImageCLEFmedical_Caption_2023_test_010470.jpg   0.799166  0.626519   \n",
            "10470  ImageCLEFmedical_Caption_2023_test_010471.jpg   1.475854  1.081474   \n",
            "10471  ImageCLEFmedical_Caption_2023_test_010472.jpg  29.919790  2.437143   \n",
            "10472  ImageCLEFmedical_Caption_2023_test_010473.jpg  24.402668  0.000000   \n",
            "\n",
            "            3_x        4_x       5_x        6_x       7_x       8_x  9_x  ...  \\\n",
            "0      2.030567   0.583208  3.688380   2.925048  0.000000  0.000000  0.0  ...   \n",
            "1      1.676117   0.383369  1.125529   1.058520  0.000000  0.128517  0.0  ...   \n",
            "2      0.000000   1.500347  1.705682   0.000000  0.000000  1.000727  0.0  ...   \n",
            "3      0.000000   2.440679  1.151296   0.415618  0.000000  0.800163  0.0  ...   \n",
            "4      0.460008   0.201318  2.031944   2.367830  0.000000  0.315109  0.0  ...   \n",
            "...         ...        ...       ...        ...       ...       ...  ...  ...   \n",
            "10468  3.184845   1.078150  1.655442   1.681396  0.000000  0.000000  0.0  ...   \n",
            "10469  1.640839   1.178987  2.185383   1.221650  0.319814  0.000000  0.0  ...   \n",
            "10470  0.000000   0.325492  3.070553   2.160223  0.290868  1.419418  0.0  ...   \n",
            "10471  0.000000  16.989481  6.047424  12.552664  0.000000  0.000000  0.0  ...   \n",
            "10472  0.000000  15.225058  0.157359  11.396350  0.000000  0.000000  0.0  ...   \n",
            "\n",
            "           4087      4088      4089      4090      4091      4092      4093  \\\n",
            "0      0.642135  0.000000  0.447947  0.000000  1.156995  0.364373  0.000000   \n",
            "1      0.000000  0.000000  0.000000  0.177177  0.090239  0.000000  0.000000   \n",
            "2      0.000000  0.062280  0.000000  0.710909  0.000000  0.000000  0.173711   \n",
            "3      0.000000  0.168956  0.000000  0.642035  0.000000  0.000000  0.033032   \n",
            "4      0.196570  0.122906  0.000000  0.465988  0.000000  0.000000  0.000000   \n",
            "...         ...       ...       ...       ...       ...       ...       ...   \n",
            "10468  0.000000  0.000000  0.464252  0.000000  0.000000  0.000000  0.000000   \n",
            "10469  0.000000  0.000000  0.047935  0.000000  0.000000  0.000000  0.000000   \n",
            "10470  0.000000  0.000000  0.000000  0.436805  0.018485  0.000000  0.000000   \n",
            "10471  3.306902  0.000000  0.000000  3.646533  7.815125  7.552313  0.922021   \n",
            "10472  3.125252  0.000000  0.000000  3.893099  8.074143  7.665239  1.021051   \n",
            "\n",
            "       4094      4095  4096  \n",
            "0       0.0  0.000000   0.0  \n",
            "1       0.0  0.000000   0.0  \n",
            "2       0.0  0.000000   0.0  \n",
            "3       0.0  0.000000   0.0  \n",
            "4       0.0  0.000000   0.0  \n",
            "...     ...       ...   ...  \n",
            "10468   0.0  0.000000   0.0  \n",
            "10469   0.0  0.000000   0.0  \n",
            "10470   0.0  0.000000   0.0  \n",
            "10471   0.0  5.156563   0.0  \n",
            "10472   0.0  5.531346   0.0  \n",
            "\n",
            "[10473 rows x 12289 columns]\n"
          ]
        }
      ],
      "source": [
        "# Train XGBoost model\n",
        "xgb_model = xgb.XGBClassifier()\n",
        "xgb_model.load_model('/content/drive/MyDrive/ImageCLEFmedical-23/weights/xgboost_weights/my_model1.model')\n",
        "predictions = xgb_model.predict(final_features)\n",
        "print(features)\n",
        "#xgb_model.fit(X_train, y_train, eval_set=eval_set, eval_metric=\"logloss\", early_stopping_rounds=10)\n"
      ]
    },
    {
      "cell_type": "code",
      "source": [
        "#print(predictions[301])\n",
        "predict = np.count_nonzero(predictions[4])\n",
        "print(predict)\n",
        "decoded_cui_labels = []\n",
        "'''\n",
        "for encoded_row in predictions:\n",
        "    decoded_row = mlb.inverse_transform(encoded_row)\n",
        "    decoded_cui_labels.append(decoded_row)\n",
        "'''\n",
        "decode = mlb.inverse_transform(predictions)\n",
        "print(decode[1])\n",
        "print(np.count_nonzero(decode[4]))\n",
        "\n",
        "\n",
        "'''\n",
        "# print the decoded labels\n",
        "print(decoded_cui_labels)\n",
        "inverse = mlb.inverse_transform([predictions])\n",
        "print(inverse)\n",
        "#print(predict)\n",
        "i=0\n",
        "for predict in predictions:\n",
        "  i+=1\n",
        "  if i==10:\n",
        "    break\n",
        "  #print(predict)\n",
        "'''"
      ],
      "metadata": {
        "colab": {
          "base_uri": "https://localhost:8080/",
          "height": 127
        },
        "id": "1ea-byb_nx6E",
        "outputId": "113aa273-5f13-4a09-e751-25c8e40fdeb4"
      },
      "id": "1ea-byb_nx6E",
      "execution_count": null,
      "outputs": [
        {
          "output_type": "stream",
          "name": "stdout",
          "text": [
            "35\n",
            "(35, 48, 73, 84, 106, 116, 140, 194, 249, 266, 304, 448, 454, 458, 508, 573, 585, 640, 679, 739, 872, 879, 892, 898, 954, 1106, 1109, 1185, 1248, 1365, 1390, 1397, 1455, 1480, 1567, 1693, 1829, 1908, 2072, 2074, 2105)\n",
            "35\n"
          ]
        },
        {
          "output_type": "execute_result",
          "data": {
            "text/plain": [
              "'\\n# print the decoded labels\\nprint(decoded_cui_labels)\\ninverse = mlb.inverse_transform([predictions])\\nprint(inverse)\\n#print(predict)\\ni=0\\nfor predict in predictions:\\n  i+=1\\n  if i==10:\\n    break\\n  #print(predict)\\n'"
            ],
            "application/vnd.google.colaboratory.intrinsic+json": {
              "type": "string"
            }
          },
          "metadata": {},
          "execution_count": 99
        }
      ]
    },
    {
      "cell_type": "code",
      "source": [
        "labels = []\n",
        "for i in decode:\n",
        "  decoded_labels = encoder.inverse_transform(i)\n",
        "  labels.append(decoded_labels)\n",
        "  #decoded_labels = encoder.inverse_transform(decode)\n",
        "  #print(decoded_labels)\n",
        "# print the decoded labels\n",
        "\n",
        "print(labels[4])\n",
        "\n",
        "#labels is a 2d array - each row contains cuids predicted!\n",
        "\n",
        "#print(decoded_labels)"
      ],
      "metadata": {
        "colab": {
          "base_uri": "https://localhost:8080/"
        },
        "id": "-0BJ4Zp4tcgB",
        "outputId": "fbb2028b-b7b5-4223-b9ba-a9a3e5abc0cd"
      },
      "id": "-0BJ4Zp4tcgB",
      "execution_count": null,
      "outputs": [
        {
          "output_type": "stream",
          "name": "stdout",
          "text": [
            "['C0002940' 'C0003483' 'C0005558' 'C0013687' 'C0015641' 'C0016733'\n",
            " 'C0018944' 'C0019065' 'C0024204' 'C0024485' 'C0026724' 'C0027651'\n",
            " 'C0027740' 'C0029180' 'C0035298' 'C0037993' 'C0039508' 'C0040300'\n",
            " 'C0042591' 'C0149566' 'C0205054' 'C0205312' 'C0206207' 'C0223683'\n",
            " 'C0226157' 'C0229664' 'C0230193' 'C0235592' 'C0332459' 'C0333204'\n",
            " 'C0412675' 'C0449900' 'C0729936' 'C1720771' 'C2960749']\n"
          ]
        }
      ]
    },
    {
      "cell_type": "code",
      "execution_count": null,
      "id": "6ae33dcc",
      "metadata": {
        "id": "6ae33dcc"
      },
      "outputs": [],
      "source": []
    },
    {
      "cell_type": "code",
      "execution_count": null,
      "id": "5c1032f8",
      "metadata": {
        "id": "5c1032f8"
      },
      "outputs": [],
      "source": []
    }
  ],
  "metadata": {
    "kernelspec": {
      "display_name": "Python 3 (ipykernel)",
      "language": "python",
      "name": "python3"
    },
    "language_info": {
      "codemirror_mode": {
        "name": "ipython",
        "version": 3
      },
      "file_extension": ".py",
      "mimetype": "text/x-python",
      "name": "python",
      "nbconvert_exporter": "python",
      "pygments_lexer": "ipython3",
      "version": "3.9.16"
    },
    "colab": {
      "provenance": []
    }
  },
  "nbformat": 4,
  "nbformat_minor": 5
}